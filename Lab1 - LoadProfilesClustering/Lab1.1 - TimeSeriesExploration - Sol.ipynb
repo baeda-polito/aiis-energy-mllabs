{
 "cells": [
  {
   "attachments": {},
   "cell_type": "markdown",
   "metadata": {},
   "source": [
    "# Lab 1.1 - Time Series Exploration\n",
    "\n",
    "In this laboratory you will learn how to explore time series data. Time series data are extremely common in energy applications since data gathered from monitoring infrastructures are organized according to this approach.\n",
    "\n",
    "Welcome to the Python laboratory session on time series exploration methods! Time series data is found in a variety of domains, including finance, economics, weather forecasting, and energy applications! Exploring time series data can provide valuable insights and help us make informed decisions.\n",
    "\n",
    "In this session, we will explore various methods for analyzing and visualizing time series data using Python.\n",
    "\n",
    "By the end of this session, you will have a solid understanding of various time series exploration methods and be able to apply them to your own datasets. So, let's get started!\n",
    "\n",
    "### Importing Libraries and Data"
   ]
  },
  {
   "cell_type": "code",
   "execution_count": 1,
   "metadata": {},
   "outputs": [
    {
     "name": "stdout",
     "output_type": "stream",
     "text": [
      "<bound method NDFrame.head of                timestamp     power\n",
      "0    2017-01-01 00:00:00  502.7056\n",
      "1    2017-01-01 01:00:00  517.0394\n",
      "2    2017-01-01 02:00:00  535.8098\n",
      "3    2017-01-01 03:00:00  494.5149\n",
      "4    2017-01-01 04:00:00  503.0469\n",
      "...                  ...       ...\n",
      "8755 2017-12-31 19:00:00  258.6903\n",
      "8756 2017-12-31 20:00:00  285.9927\n",
      "8757 2017-12-31 21:00:00  267.5636\n",
      "8758 2017-12-31 22:00:00  269.6113\n",
      "8759 2017-12-31 23:00:00  268.2462\n",
      "\n",
      "[8760 rows x 2 columns]>\n"
     ]
    }
   ],
   "source": [
    "import matplotlib.pyplot as plt\n",
    "import pandas as pd\n",
    "import matplotlib.dates as mdates\n",
    "import numpy as np\n",
    "import seaborn as sns\n",
    "\n",
    "data = pd.read_csv(\"data/LoadTimeSeriesData.csv\", parse_dates=['timestamp'])\n",
    "print(data.head)"
   ]
  },
  {
   "attachments": {},
   "cell_type": "markdown",
   "metadata": {},
   "source": [
    "### Plotting the timeseries"
   ]
  },
  {
   "cell_type": "code",
   "execution_count": null,
   "metadata": {},
   "outputs": [],
   "source": [
    "plt.plot(data[\"timestamp\"], data[\"power\"])\n",
    "\n",
    "# Impostazione delle etichette degli assi e del titolo del grafico\n",
    "plt.xlabel(\"Timestamp\")\n",
    "plt.ylabel(\"Power [kW]\")\n",
    "plt.title(\"Electrical Load Time Series\")\n",
    "\n",
    "# Visualizzazione del grafico\n",
    "plt.show()"
   ]
  },
  {
   "attachments": {},
   "cell_type": "markdown",
   "metadata": {},
   "source": [
    "### Understanding power and energy conversions.\n",
    "\n",
    "Energy is the integral of Power over time. Power is measured in **Watts** [W]. Energy is measured in **Joule** [J] or in **Watthour** [Wh].\n",
    "\n",
    "The Watt-hour (Wh) represents the energy consumed or produced by a device operating at a power of 1 watt for one hour. In other words, 1 Wh is the energy produced or consumed by a device operating at a power of 1 watt for one hour.\n",
    "\n",
    "The Joule (J), on the other hand, is the unit of energy in the International System of Units. One Joule corresponds to the amount of work required to move an object weighing one Newton by one meter, applying a force of one Newton in the same direction as the movement."
   ]
  },
  {
   "attachments": {},
   "cell_type": "markdown",
   "metadata": {},
   "source": [
    "## Time series visualizations\n",
    "\n",
    "### Introduction to Carpet Plot Visualization for Time Series Data\n",
    "\n",
    "A carpet plot is a visualization technique for time series data that shows multiple individual time series as a \"carpet\" of colored blocks, where each row represents a different time series and each column represents a time step. The color of each block represents the value of the time series at that time step, and the blocks are arranged so that consecutive time steps are shown from left to right.\n",
    "\n",
    "Carpet plots are useful for visualizing large collections of time series data, as they allow patterns and trends to be easily identified across multiple time series. They can also be used to identify outliers or unusual patterns in the data.\n",
    "\n",
    "One advantage of carpet plots over line plots or scatter plots is that they allow for visualizing time series data that may have irregular sampling rates or varying lengths, as each time series can have its own unique length and sampling rate. Carpet plots can also be used to visualize multivariate time series data by using different colors to represent different variables or dimensions.\n",
    "\n",
    "In Python, carpet plots can be created using various libraries such as Matplotlib, Seaborn, or Plotly. These libraries offer different customization options for creating carpet plots, such as adjusting the color scheme, adding annotations, or smoothing the data.\n"
   ]
  },
  {
   "cell_type": "code",
   "execution_count": null,
   "metadata": {},
   "outputs": [],
   "source": [
    "# Extract the hour of the day from the datetime column\n",
    "data['hour'] = data['timestamp'].dt.hour\n",
    "data['date'] = data['timestamp'].dt.date\n",
    "\n",
    "# Create a pivot table to reshape the data\n",
    "df_pivot = data.pivot(index='date', columns='hour', values='power')\n",
    "\n",
    "fig, ax = plt.subplots(figsize=(12, 6))\n",
    "sns.heatmap(df_pivot, cmap='magma', ax=ax)\n",
    "\n",
    "# impostazione delle etichette degli assi\n",
    "ax.set_xlabel('Hour')\n",
    "ax.set_ylabel('Date')"
   ]
  },
  {
   "attachments": {},
   "cell_type": "markdown",
   "metadata": {},
   "source": [
    "### Introduction to Boxplot visualization for time series data\n",
    "\n",
    "Boxplots, also known as box-and-whisker plots, are a popular data visualization technique used to summarize the distribution of a dataset. The boxplot provides a quick and intuitive way to visualize the median, quartiles, and extreme values of a dataset, making it a valuable tool for exploratory data analysis and statistical inference.\n",
    "\n",
    "The boxplot consists of a box, which represents the interquartile range (IQR) of the dataset, and two whiskers that extend from the box to the minimum and maximum values that are within 1.5 times the IQR. Data points outside of this range are considered outliers and are plotted as individual points.\n",
    "\n",
    "Boxplots are useful for comparing the distributions of multiple datasets side-by-side and for identifying potential outliers. They can also be used to visually assess the symmetry and skewness of a distribution, as well as the spread and variability of the data."
   ]
  },
  {
   "cell_type": "code",
   "execution_count": null,
   "metadata": {},
   "outputs": [],
   "source": [
    "sns.boxplot(y=\"power\", data=data)\n",
    "plt.show()"
   ]
  },
  {
   "attachments": {},
   "cell_type": "markdown",
   "metadata": {},
   "source": [
    "**Task**: plot a boxplot in which the distribution of *power* is given for each *day of the week*"
   ]
  },
  {
   "cell_type": "code",
   "execution_count": null,
   "metadata": {},
   "outputs": [],
   "source": [
    "# write your code here:\n",
    "data['dayofweek'] = data['timestamp'].dt.day_of_week\n",
    "\n",
    "sns.boxplot(x='dayofweek', y=\"power\", data=data)\n",
    "plt.show()"
   ]
  },
  {
   "attachments": {},
   "cell_type": "markdown",
   "metadata": {},
   "source": [
    "**Task**: plot a boxplot in which the distribution of *power* is given for each *month*"
   ]
  },
  {
   "cell_type": "code",
   "execution_count": null,
   "metadata": {},
   "outputs": [],
   "source": [
    "data['month'] = data['timestamp'].dt.month\n",
    "\n",
    "sns.boxplot(x='month', y=\"power\", data=data)\n",
    "plt.show()"
   ]
  },
  {
   "attachments": {},
   "cell_type": "markdown",
   "metadata": {},
   "source": [
    "**Task**: plot a boxplot in which the distribution of *power* is given for each *day of the week* and for each *month*"
   ]
  },
  {
   "cell_type": "code",
   "execution_count": null,
   "metadata": {},
   "outputs": [],
   "source": [
    "# crea un oggetto FacetGrid suddividendo i dati per giorno\n",
    "g = sns.FacetGrid(data, col=\"month\", col_wrap=4)\n",
    "\n",
    "# aggiungi un boxplot della variabile \"total_bill\" su ciascun sotto-plot\n",
    "g.map(sns.boxplot, \"dayofweek\", \"power\")\n",
    "\n",
    "# mostra il plot\n",
    "plt.show()"
   ]
  },
  {
   "attachments": {},
   "cell_type": "markdown",
   "metadata": {},
   "source": [
    "### Introduction to Load Profile visualization for energy-related time series data\n",
    "\n",
    "Load profile visualization is a critical tool for analyzing and understanding energy-related time series data, such as electricity demand, renewable energy production, and energy consumption patterns. Load profiles display how energy usage varies over time, typically in hourly or sub-hourly intervals, and can provide valuable insights into energy usage patterns, peak demand periods, and opportunities for energy conservation.\n",
    "\n",
    "Load profile visualization typically involves plotting energy usage data on a graph, with time on the x-axis and energy usage on the y-axis. The resulting graph shows how energy usage changes over time, with peaks indicating periods of high demand and valleys indicating periods of low demand. Load profiles can be used to identify trends and patterns in energy usage, such as daily or weekly cycles, seasonal fluctuations, and changes in energy consumption due to external factors, such as weather events or economic conditions.\n",
    "\n",
    "Load profiles are a critical tool for energy utilities, businesses, and policymakers to manage energy usage effectively, optimize energy efficiency, and plan for future energy needs. They can be used to identify opportunities for energy conservation, demand response programs, and energy storage solutions, as well as inform decision-making around energy infrastructure investment and development."
   ]
  },
  {
   "cell_type": "code",
   "execution_count": null,
   "metadata": {},
   "outputs": [],
   "source": [
    "# creating a new DataFrame with the average power for each hour of the day and for each day of the week\n",
    "data_mean = data.groupby(['dayofweek', 'hour'])['power'].mean().reset_index()\n",
    "\n",
    "# generating load profiles\n",
    "g = sns.FacetGrid(data=data, col='dayofweek', hue='date', col_wrap=3, height=3, aspect=2, sharey=False)\n",
    "g.map(sns.lineplot, 'hour', 'power', color='gray')\n",
    "\n",
    "# adding average values\n",
    "for ax, day in zip(g.axes.flatten(), data_mean['dayofweek'].unique()):\n",
    "    sns.lineplot(x='hour', y='power', data=data_mean[data_mean['dayofweek'] == day], color='r', ax=ax, label='Profilo medio', legend=False)\n",
    "\n",
    "plt.show()"
   ]
  },
  {
   "attachments": {},
   "cell_type": "markdown",
   "metadata": {},
   "source": [
    "## Missing values\n",
    "\n",
    "Handling missing values is critical in time series analytics because they can significantly impact the accuracy and reliability of any analysis or forecasting. If missing values are ignored or improperly handled, it can lead to biased estimates, incorrect conclusions, and inaccurate predictions, which can have serious consequences for decision-making and planning.\n",
    "\n",
    "Therefore, it is essential to have a comprehensive understanding of the various techniques available to handle missing values in time series data. These techniques range from simple methods like mean imputation or forward filling to more complex techniques like regression imputation, which can incorporate additional predictors to estimate missing values. Choosing the appropriate method depends on the nature of the missing values and the specific context of the analysis.\n",
    "\n",
    "In summary, handling missing values in time series analytics is crucial to ensure the accuracy and reliability of any analysis or forecasting, and it requires a sound understanding of the available techniques and their appropriate application."
   ]
  },
  {
   "attachments": {},
   "cell_type": "markdown",
   "metadata": {},
   "source": [
    "**Task**: count the number of NAs in the column \"power\" and print the rows in which they are located"
   ]
  },
  {
   "cell_type": "code",
   "execution_count": null,
   "metadata": {},
   "outputs": [],
   "source": [
    "# write your code here\n",
    "missing_values_count = data['power'].isna().sum()\n",
    "\n",
    "print(f\"Number of missing values in column power: {missing_values_count}\")\n",
    "\n",
    "# visualize the rows in which we have missing data\n",
    "data[data['power'].isna()]"
   ]
  },
  {
   "attachments": {},
   "cell_type": "markdown",
   "metadata": {},
   "source": [
    "### Introduction to fillna in Pandas\n",
    "The fillna method in Pandas is used to fill missing or NaN values in a DataFrame or Series. It can be used to fill NaN values with a constant value, a value computed from neighboring values, or a value computed using a custom function. The fillna method is a powerful tool for handling missing data in Pandas, and it can be used to preprocess data prior to analysis or to clean up data before exporting it to a different file format.\n",
    "\n",
    "#### Internal methods for filling NaN values\n",
    "There are several internal methods available in the fillna method that can be used to fill NaN values in a DataFrame or Series. Some of the most commonly used internal methods include:\n",
    "\n",
    "* **ffill**: This method fills NaN values with the previous non-NaN value. This is also known as a forward fill, as it propagates the last known value forward.\n",
    "\n",
    "* **bfill**: This method fills NaN values with the next non-NaN value. This is also known as a backward fill, as it propagates the next known value backward.\n",
    "\n",
    "* **None**: xxx.\n",
    "\n",
    "These internal methods can be specified as arguments to the fillna method in Pandas. By default, the fillna method fills NaN values with a constant value of 0.0. However, the internal methods can be used to fill NaN values in a more intelligent way based on the surrounding data."
   ]
  },
  {
   "attachments": {},
   "cell_type": "markdown",
   "metadata": {},
   "source": [
    "**Task**: select a subset of the dataset which include only two dates \"2017-06-19\" and \"2017-06-20\""
   ]
  },
  {
   "cell_type": "code",
   "execution_count": null,
   "metadata": {},
   "outputs": [],
   "source": [
    "# write your code here\n",
    "data_subset = data.loc[(data['timestamp'] > '2017-06-18 23:59:00') & (data['timestamp'] < '2017-06-21')]\n",
    "\n",
    "print(data_subset)"
   ]
  },
  {
   "cell_type": "code",
   "execution_count": null,
   "metadata": {},
   "outputs": [],
   "source": [
    "fig, ax = plt.subplots(nrows=1,figsize=(8, 3))\n",
    "ax.plot(data_subset['timestamp'], data_subset['power'], label='Original')\n",
    "ax.set_title('Original Timeseries')\n",
    "ax.set_ylabel('Power')\n",
    "ax.set_xlabel('Time')\n",
    "ax.set_ylim([0, None])\n",
    "\n",
    "methods = ['ffill', 'bfill', 'Mean']\n",
    "# optional\n",
    "threshold = 2\n",
    "fig, axes = plt.subplots(nrows=len(methods), figsize=(8, 6))\n",
    "\n",
    "for i, method in enumerate(methods):\n",
    "    # fill NaN values using specified method\n",
    "    filled_data = data.copy()\n",
    "    if method != 'Mean':\n",
    "        filled_data['power'] = filled_data['power'].fillna(method=method, limit=threshold)\n",
    "    else:\n",
    "        filled_data['power'] = filled_data['power'].fillna(data['power'].mean())\n",
    "    filled_data_subset = filled_data.loc[(filled_data['timestamp'] > '2017-06-18 23:59:00') & (filled_data['timestamp'] < '2017-06-21')]\n",
    "    # plot reconstructed timeseries\n",
    "    axes[i].plot(filled_data_subset['timestamp'], filled_data_subset['power'])\n",
    "    axes[i].scatter(filled_data_subset['timestamp'][data_subset['power'].isnull()], \n",
    "                    filled_data_subset['power'][data_subset['power'].isnull()], color='r')\n",
    "    axes[i].set_title(f\"Method: {method}\")\n",
    "    axes[i].set_ylabel('Power')\n",
    "    axes[i].set_xlabel('Time')\n",
    "    axes[i].set_ylim([0, None])\n",
    "    \n",
    "plt.tight_layout()\n",
    "plt.show()\n"
   ]
  },
  {
   "attachments": {},
   "cell_type": "markdown",
   "metadata": {},
   "source": [
    "### Introduction to moving average and rolling function\n",
    "\n",
    "A common method for filling missing data is to use a moving average, which is a statistical technique that calculates the average of a subset of values over a specified window of time or observations. The rolling function in pandas can be used to perform this calculation efficiently on a time series or a dataframe.\n",
    "\n",
    "The rolling function takes a window size as input and applies a rolling window calculation to a specified column of the dataframe. The window size defines the number of consecutive values to include in each rolling calculation."
   ]
  },
  {
   "attachments": {},
   "cell_type": "markdown",
   "metadata": {},
   "source": [
    "**Tip** play with *window size* to understand its functioning"
   ]
  },
  {
   "cell_type": "code",
   "execution_count": null,
   "metadata": {},
   "outputs": [],
   "source": [
    "# create a copy of the data\n",
    "filled_data = data.copy()\n",
    "\n",
    "# set window size\n",
    "window_size = 4\n",
    "\n",
    "# calculate the rolling mean over a window of size 'window_size'\n",
    "filled_data['power'] = filled_data['power'].fillna(filled_data['power'].rolling(window_size, min_periods=1).mean())\n",
    "\n",
    "filled_data_subset = filled_data.loc[(filled_data['timestamp'] > '2017-06-18 23:59:00') & (filled_data['timestamp'] < '2017-06-21')]\n",
    "\n",
    "fig, ax = plt.subplots(nrows=1,figsize=(8, 3))\n",
    "ax.plot(filled_data_subset['timestamp'], filled_data_subset['power'], label='Original')\n",
    "ax.scatter(filled_data_subset['timestamp'][data_subset['power'].isnull()], \n",
    "                    filled_data_subset['power'][data_subset['power'].isnull()], color='r')\n",
    "ax.set_title('Method: Moving average')\n",
    "ax.set_ylabel('Power')\n",
    "ax.set_xlabel('Time')\n",
    "ax.set_ylim([0, None])\n"
   ]
  },
  {
   "attachments": {},
   "cell_type": "markdown",
   "metadata": {},
   "source": [
    "### Introduction to interpolate\n",
    "\n",
    "In pandas, the interpolate() method provides a way to fill in missing values by using interpolation. Interpolation is a technique for estimating values for missing data points based on the values of neighboring data points.\n",
    "\n",
    "The interpolate() method computes linear interpolation by default, but other interpolation methods such as quadratic and cubic can also be used. The method works by examining the values in a Series or DataFrame, and filling in the missing values based on the values of neighboring data points."
   ]
  },
  {
   "cell_type": "code",
   "execution_count": null,
   "metadata": {},
   "outputs": [],
   "source": [
    "\n",
    "\n",
    "methods = ['linear', 'quadratic', 'spline']\n",
    "# optional\n",
    "threshold = 6\n",
    "fig, axes = plt.subplots(nrows=len(methods), figsize=(8, 6))\n",
    "\n",
    "for i, method in enumerate(methods):\n",
    "    # fill NaN values using specified method\n",
    "    filled_data = data.copy()\n",
    "    filled_data['power'].interpolate(method=method,limit=threshold, inplace=True, order=3)\n",
    "    filled_data_subset = filled_data.loc[(filled_data['timestamp'] > '2017-06-18 23:59:00') & (filled_data['timestamp'] < '2017-06-21')]\n",
    "    # plot reconstructed timeseries\n",
    "    axes[i].plot(filled_data_subset['timestamp'], filled_data_subset['power'])\n",
    "    axes[i].scatter(filled_data_subset['timestamp'][data_subset['power'].isnull()], \n",
    "                    filled_data_subset['power'][data_subset['power'].isnull()], color='r')\n",
    "    axes[i].set_title(f\"Method: {method}\")\n",
    "    axes[i].set_ylabel('Power')\n",
    "    axes[i].set_xlabel('Time')\n",
    "    axes[i].set_ylim([0, None])\n",
    "    \n",
    "plt.tight_layout()\n",
    "plt.show()\n"
   ]
  },
  {
   "attachments": {},
   "cell_type": "markdown",
   "metadata": {},
   "source": [
    "## Outlier detection\n",
    "\n",
    "Outliers are data points that deviate significantly from the rest of the data. Outliers can occur due to measurement errors, data entry errors, or simply due to the inherent variability of the data. Identifying outliers is an important step in data analysis, as they can have a significant impact on statistical estimates and machine learning models.\n",
    "\n",
    "### Z-score method"
   ]
  },
  {
   "attachments": {},
   "cell_type": "markdown",
   "metadata": {},
   "source": [
    "One way to detect outliers is to use the z-score method, which identifies data points that are more than a certain number of standard deviations away from the mean. The z-score is calculated as the difference between a data point and the mean, divided by the standard deviation."
   ]
  },
  {
   "attachments": {},
   "cell_type": "markdown",
   "metadata": {},
   "source": [
    "**Task**: calculate *z_scores* for power column. Identify outliers and print them on the original time series with red dots."
   ]
  },
  {
   "cell_type": "code",
   "execution_count": null,
   "metadata": {},
   "outputs": [],
   "source": [
    "# calculate z-scores for each column\n",
    "z_scores = (data['power'] - data['power'].mean()) / data['power'].std()\n",
    "\n",
    "# define std limit (default 3)\n",
    "std_limit = 3\n",
    "\n",
    "# identify outliers as data points with z-score greater than std_limit or less than -std_limit\n",
    "outliers = data['power'][(z_scores > std_limit) | (z_scores < -std_limit)]\n",
    "\n",
    "print(outliers)\n",
    "\n",
    "# plot column 'a' with outlier in red\n",
    "plt.plot(data['power'])\n",
    "plt.plot(outliers.index, data.loc[outliers.index, 'power'], 'ro')\n",
    "plt.show()"
   ]
  },
  {
   "attachments": {},
   "cell_type": "markdown",
   "metadata": {},
   "source": [
    "### Interquartile or boxplot method"
   ]
  },
  {
   "cell_type": "code",
   "execution_count": null,
   "metadata": {},
   "outputs": [],
   "source": [
    "# evaluate 1st quartile\n",
    "Q1 = data['power'].quantile(0.25)\n",
    "\n",
    "# evalutate 3rd quartile\n",
    "Q3 = data['power'].quantile(0.75)\n",
    "\n",
    "# evaluate interquartile\n",
    "IQR = Q3 - Q1\n",
    "\n",
    "# define IQR limit (default 1.5)\n",
    "IQR_limit = 1.5\n",
    "\n",
    "# identify and highlight outliers\n",
    "outliers = data['power'][(data['power'] < Q1 - IQR_limit*IQR) | (data['power'] > Q3 + IQR_limit*IQR)]\n",
    "\n",
    "plt.plot(data['power'])\n",
    "plt.plot(outliers.index, data.loc[outliers.index, 'power'], 'ro')\n",
    "plt.show()"
   ]
  }
 ],
 "metadata": {
  "kernelspec": {
   "display_name": ".venv",
   "language": "python",
   "name": "python3"
  },
  "language_info": {
   "codemirror_mode": {
    "name": "ipython",
    "version": 3
   },
   "file_extension": ".py",
   "mimetype": "text/x-python",
   "name": "python",
   "nbconvert_exporter": "python",
   "pygments_lexer": "ipython3",
   "version": "3.10.8"
  },
  "orig_nbformat": 4,
  "vscode": {
   "interpreter": {
    "hash": "cf39681a12d5902f489aa36c08fcb4d0cc6d3246489205bad4407c57ca1a964d"
   }
  }
 },
 "nbformat": 4,
 "nbformat_minor": 2
}
